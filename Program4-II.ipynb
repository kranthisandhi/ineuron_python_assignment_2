{
 "cells": [
  {
   "cell_type": "markdown",
   "metadata": {},
   "source": [
    "#    1. Create the below pattern using nested for loop in Python"
   ]
  },
  {
   "cell_type": "code",
   "execution_count": 1,
   "metadata": {},
   "outputs": [
    {
     "name": "stdout",
     "output_type": "stream",
     "text": [
      "Enter number 5\n",
      "* \n",
      "* * \n",
      "* * * \n",
      "* * * * \n",
      "* * * * * \n",
      "* * * * \n",
      "* * * \n",
      "* * \n",
      "* \n"
     ]
    }
   ],
   "source": [
    "n=int(input(\"Enter number \"))\n",
    "i=0\n",
    "while i < n :\n",
    "  j=0\n",
    "  while j<i+1 :\n",
    "    print(\"* \",end=\"\")\n",
    "    j=j+1\n",
    "  i=i+1\n",
    "  print(\"\\r\") \n",
    "\n",
    "i=n-1\n",
    "while i > 0 :\n",
    "  j=0  \n",
    "  while j < i :\n",
    "    print(\"* \",end=\"\")\n",
    "    j=j+1\n",
    "  i=i-1\n",
    "  print(\"\\r\")\n"
   ]
  }
 ],
 "metadata": {
  "kernelspec": {
   "display_name": "Python 3",
   "language": "python",
   "name": "python3"
  },
  "language_info": {
   "codemirror_mode": {
    "name": "ipython",
    "version": 3
   },
   "file_extension": ".py",
   "mimetype": "text/x-python",
   "name": "python",
   "nbconvert_exporter": "python",
   "pygments_lexer": "ipython3",
   "version": "3.8.5"
  }
 },
 "nbformat": 4,
 "nbformat_minor": 4
}
